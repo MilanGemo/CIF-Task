{
 "cells": [
  {
   "cell_type": "code",
   "execution_count": 1,
   "id": "34f11044",
   "metadata": {
    "scrolled": true
   },
   "outputs": [
    {
     "data": {
      "text/html": [
       "<div>\n",
       "<style scoped>\n",
       "    .dataframe tbody tr th:only-of-type {\n",
       "        vertical-align: middle;\n",
       "    }\n",
       "\n",
       "    .dataframe tbody tr th {\n",
       "        vertical-align: top;\n",
       "    }\n",
       "\n",
       "    .dataframe thead th {\n",
       "        text-align: right;\n",
       "    }\n",
       "</style>\n",
       "<table border=\"1\" class=\"dataframe\">\n",
       "  <thead>\n",
       "    <tr style=\"text-align: right;\">\n",
       "      <th></th>\n",
       "      <th>Date</th>\n",
       "      <th>Asset A</th>\n",
       "      <th>Asset B</th>\n",
       "      <th>Asset C</th>\n",
       "    </tr>\n",
       "  </thead>\n",
       "  <tbody>\n",
       "    <tr>\n",
       "      <th>0</th>\n",
       "      <td>2021-05-11</td>\n",
       "      <td>41.8125</td>\n",
       "      <td>76.250</td>\n",
       "      <td>45.0000</td>\n",
       "    </tr>\n",
       "    <tr>\n",
       "      <th>1</th>\n",
       "      <td>2021-05-12</td>\n",
       "      <td>42.9375</td>\n",
       "      <td>77.125</td>\n",
       "      <td>45.3125</td>\n",
       "    </tr>\n",
       "    <tr>\n",
       "      <th>2</th>\n",
       "      <td>2021-05-13</td>\n",
       "      <td>43.0000</td>\n",
       "      <td>77.750</td>\n",
       "      <td>45.8125</td>\n",
       "    </tr>\n",
       "  </tbody>\n",
       "</table>\n",
       "</div>"
      ],
      "text/plain": [
       "         Date  Asset A  Asset B  Asset C\n",
       "0  2021-05-11  41.8125   76.250  45.0000\n",
       "1  2021-05-12  42.9375   77.125  45.3125\n",
       "2  2021-05-13  43.0000   77.750  45.8125"
      ]
     },
     "execution_count": 1,
     "metadata": {},
     "output_type": "execute_result"
    }
   ],
   "source": [
    "# import needed packages\n",
    "\n",
    "import numpy as np\n",
    "import pandas as pd\n",
    "from math import ceil\n",
    "\n",
    "# define portfolio positions\n",
    "valA=1000\n",
    "valB=5000\n",
    "valC=6000\n",
    "\n",
    "# calculate the weights and the portfolio value\n",
    "wA=valA/(valA+valB+valC)\n",
    "wB=valB/(valA+valB+valC)\n",
    "wC=valC/(valA+valB+valC)\n",
    "\n",
    "w=[wA,wB,wC]\n",
    "\n",
    "val=valA+valB+valC\n",
    "\n",
    "\n",
    "# define probability\n",
    "\n",
    "p=0.01\n",
    "\n",
    "# import data \n",
    "# data was converted to number in excel and saved as csv\n",
    "\n",
    "task = pd.read_csv('CIF Task/VaR.csv')\n",
    "task.head(3)"
   ]
  },
  {
   "cell_type": "code",
   "execution_count": 2,
   "id": "50bf51bc",
   "metadata": {},
   "outputs": [],
   "source": [
    "# convert prices to returns, and adjust length\n",
    "yA = np.diff(np.log(task['Asset A']), n=1, axis=0)\n",
    "yB = np.diff(np.log(task['Asset B']), n=1, axis=0)\n",
    "yC = np.diff(np.log(task['Asset C']), n=1, axis=0)\n",
    "T = len(yA)\n",
    "y = np.zeros((T, 3))\n",
    "y = [yA, yB, yC]"
   ]
  },
  {
   "cell_type": "code",
   "execution_count": 3,
   "id": "2aded183",
   "metadata": {},
   "outputs": [
    {
     "name": "stdout",
     "output_type": "stream",
     "text": [
      "535.0682940936697\n"
     ]
    }
   ],
   "source": [
    "# calculate the portfolio returns\n",
    "\n",
    "yp = np.squeeze(np.matmul(w, y))\n",
    "yps = np.sort(yp)\n",
    "\n",
    "# p percent smallest\n",
    "op = ceil(T*p)\n",
    "VaR = -yps[op - 1] * val\n",
    "\n",
    "print(VaR)"
   ]
  },
  {
   "cell_type": "code",
   "execution_count": null,
   "id": "ec2039fb",
   "metadata": {},
   "outputs": [],
   "source": []
  },
  {
   "cell_type": "code",
   "execution_count": null,
   "id": "3b15ef23",
   "metadata": {},
   "outputs": [],
   "source": []
  }
 ],
 "metadata": {
  "kernelspec": {
   "display_name": "Python 3 (ipykernel)",
   "language": "python",
   "name": "python3"
  },
  "language_info": {
   "codemirror_mode": {
    "name": "ipython",
    "version": 3
   },
   "file_extension": ".py",
   "mimetype": "text/x-python",
   "name": "python",
   "nbconvert_exporter": "python",
   "pygments_lexer": "ipython3",
   "version": "3.8.8"
  }
 },
 "nbformat": 4,
 "nbformat_minor": 5
}
